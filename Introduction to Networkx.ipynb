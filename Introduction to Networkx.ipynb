{
 "cells": [
  {
   "cell_type": "markdown",
   "metadata": {},
   "source": [
    "# Analyses with NetworkX"
   ]
  },
  {
   "cell_type": "markdown",
   "metadata": {},
   "source": [
    "Social networks have become a fixture of modern life thanks to social networking sites like Facebook and Twitter. Social networks themselves are not new, however. The study of such networks dates back to the early twentieth century, particularly in the field of sociology and anthropology. It is their prevelance in mainstream applciations that have moved these types of studies to the purview of data science. \n",
    "\n",
    "The basis for the analyses in this notebook comes from Graph Theory- the mathmatical study of the application and properties of graphs, originally motivated by the study of games of chance. Generally speaking, this involves the study of network encoding, and measuring properties of the graph. Graph theory can be traced back to Euler's work on the Konigsberg Bridges problem (1735). However in recent decades, the rise of the social network has influenced the discpline, particularly with Computer Science graph data structures and databases. \n",
    "\n",
    "A Graph, then can be defined as: `G = (V, E)` consiting of a finite set of nodes denoted by `V` or `V(G)` and a collection `E` or `E(G)` of unordered pairs `{u, v}` where `u, v ∈ V`. Less formally, this is a symbolic repreentation of a network and their relationships- a set of linked nodes.\n",
    "\n",
    "Graphs can be either directed or undirected. Directed graphs simply have ordered relationships, undirected graphs can be seen as bidirectional directed graphs. A directed graph in a social network tends to have directional semantic relationships, e.g. \"friends\" - Abe might be friends with Jane, but Jane might not reciprocate. Undirected social networks have more general semantic relationships, e.g. \"knows\". Any directed graph can easily be converted to the more general undirected graph. In this case, the adjacency matrix becomes symmetric.\n",
    "\n",
    "A few final terms will help us in our discussion. The cardinality of vertices is called the *order* of the Graph, where as the cardinality of the edges is called the *size*. In the above graph, the order is 7 and the size is 10. Two nodes are adjacent if they share an edge, they are also called neighbors and the neighborhood of a vertex is the set of all vertices that a vertex is connected to. The number of nodes in a vertex' neighborhood is that vertex' degree. \n",
    "\n",
    "## Required Python Libraries ##\n",
    "\n",
    "The required external libraries for the tasks in this notebook are as follows:\n",
    "\n",
    "1. networkx\n",
    "2. matplotlib\n",
    "3. python-louvain\n",
    "\n",
    "NetworkX is a well maintained Python library for the creation, manipulation, and study of the structure of complex networks. Its tools allow for the quick creation of graphs, and the library also contains many common graph algorithms. In particular NetworkX complements Python's scientific computing suite of SciPy/NumPy, Matplotlib, and Graphviz and can handle graphs in memory of 10M's of nodes and 100M's of links. NetworkX should be part of every data scientist's toolkit. \n",
    "\n",
    "NetworkX and Python are the perfect combination to do social network analysis. NetworkX is designed to handle data at scale, data that is relevant to modern scale social networks. The core algorithms that are included are implemented on extremely fast legacy code. Graphs are hugely flexible (nodes can be any hashable type), and there is an extensive set of native IO formats. Finally, with Python- you'll be able to access or use a myriad of data sources from databases to the Internet."
   ]
  },
  {
   "cell_type": "code",
   "execution_count": 1,
   "metadata": {
    "collapsed": false
   },
   "outputs": [],
   "source": [
    "%matplotlib inline"
   ]
  },
  {
   "cell_type": "code",
   "execution_count": 2,
   "metadata": {
    "collapsed": false
   },
   "outputs": [],
   "source": [
    "import os\n",
    "import random\n",
    "import community\n",
    "\n",
    "import numpy as np\n",
    "import networkx as nx\n",
    "import matplotlib.pyplot as plt\n",
    "\n",
    "from tribe.utils import *\n",
    "from tribe.stats import *\n",
    "from operator import itemgetter\n",
    "\n",
    "## Some Helper constants\n",
    "FIXTURES = os.path.join(os.getcwd(), \"fixtures\")\n",
    "# GRAPHML  = os.path.join(FIXTURES, \"benjamin@bengfort.com.graphml\")\n",
    "GRAPHML  = os.path.join(FIXTURES, \"/Users/benjamin/Desktop/20150814T212153Z.graphml\")"
   ]
  },
  {
   "cell_type": "markdown",
   "metadata": {},
   "source": [
    "The basics of creating a NetworkX Graph:"
   ]
  },
  {
   "cell_type": "code",
   "execution_count": null,
   "metadata": {
    "collapsed": false
   },
   "outputs": [],
   "source": [
    "H = nx.Graph(name=\"Hello World Graph\")\n",
    "# Also nx.DiGraph, nx.MultiGraph, etc\n",
    "\n",
    "# Add nodes manually, label can be anything hashable\n",
    "H.add_node(1, name=\"Ben\", email=\"benjamin@bengfort.com\")\n",
    "H.add_node(2, name=\"Tony\", email=\"ojedatony1616@gmail.com\")\n",
    "\n",
    "# Can also add an iterable of nodes: H.add_nodes_from\n",
    "print nx.info(H)"
   ]
  },
  {
   "cell_type": "code",
   "execution_count": null,
   "metadata": {
    "collapsed": false
   },
   "outputs": [],
   "source": [
    "H.add_edge(1,2, label=\"friends\", weight=0.832)\n",
    "\n",
    "# Can also add an iterable of edges: H.add_edges_from"
   ]
  },
  {
   "cell_type": "code",
   "execution_count": null,
   "metadata": {
    "collapsed": false
   },
   "outputs": [],
   "source": [
    "print nx.info(H)\n",
    "# Clearing a graph is easy\n",
    "H.remove_node(1)\n",
    "H.clear()"
   ]
  },
  {
   "cell_type": "markdown",
   "metadata": {},
   "source": [
    "For testing and diagnostics it's useful to generate a random Graph. NetworkX comes with several graph models including:\n",
    "\n",
    "- Complete Graph `G=nx.complete_graph(100)`\n",
    "- Star Graph `G=nx.star_graph(100)`\n",
    "- Erdős-Rényi graph, binomial graph `G=nx.erdos_renyi_graph(100, 0.20)`\n",
    "- Watts-Strogatz small-world graph `G=nx.watts_strogatz_graph(100, 0.20)`\n",
    "- Holme and Kim power law `G=nx.powerlaw_cluster_graph(100, 0.20)`\n",
    "\n",
    "But there are so many more, see [Graph generators](https://networkx.github.io/documentation/latest/reference/generators.html) for more information on all the types of graph generators NetworkX provides. These, however are the best ones for doing research on social networks."
   ]
  },
  {
   "cell_type": "code",
   "execution_count": null,
   "metadata": {
    "collapsed": false
   },
   "outputs": [],
   "source": [
    "H = nx.erdos_renyi_graph(100, 0.20)"
   ]
  },
  {
   "cell_type": "markdown",
   "metadata": {},
   "source": [
    "Accessing Nodes and Edges:"
   ]
  },
  {
   "cell_type": "code",
   "execution_count": null,
   "metadata": {
    "collapsed": false
   },
   "outputs": [],
   "source": [
    "print H.nodes()[1:10]\n",
    "print H.edges()[1:5]\n",
    "print H.neighbors(3)"
   ]
  },
  {
   "cell_type": "code",
   "execution_count": null,
   "metadata": {
    "collapsed": false
   },
   "outputs": [],
   "source": [
    "# For fast, memory safe iteration, use the `_iter` methods\n",
    "\n",
    "edges, nodes = 0,0\n",
    "for e in H.edges_iter(): edges += 1\n",
    "for n in H.nodes_iter(): nodes += 1\n",
    "    \n",
    "print \"%i edges, %i nodes\" % (edges, nodes)"
   ]
  },
  {
   "cell_type": "code",
   "execution_count": null,
   "metadata": {
    "collapsed": false
   },
   "outputs": [],
   "source": [
    "# Accessing the properties of a graph\n",
    "\n",
    "print H.graph['name']\n",
    "H.graph['created'] = strfnow()\n",
    "print H.graph"
   ]
  },
  {
   "cell_type": "code",
   "execution_count": null,
   "metadata": {
    "collapsed": false
   },
   "outputs": [],
   "source": [
    "# Accessing the properties of nodes and edges\n",
    "\n",
    "H.node[1]['color'] = 'red'\n",
    "H.node[43]['color'] = 'blue'\n",
    "\n",
    "print H.node[43]\n",
    "print H.nodes(data=True)[:3]\n",
    "\n",
    "# The weight property is special and should be numeric\n",
    "H.edge[0][34]['weight'] = 0.432\n",
    "H.edge[0][36]['weight'] = 0.123\n",
    "\n",
    "print H.edge[34][0]"
   ]
  },
  {
   "cell_type": "code",
   "execution_count": null,
   "metadata": {
    "collapsed": true
   },
   "outputs": [],
   "source": []
  },
  {
   "cell_type": "code",
   "execution_count": null,
   "metadata": {
    "collapsed": false
   },
   "outputs": [],
   "source": [
    "# Accessing the highest degree node\n",
    "center, degree = sorted(H.degree().items(), key=itemgetter(1), reverse=True)[0]\n",
    "\n",
    "# A special type of subgraph\n",
    "ego = nx.ego_graph(H, center)\n",
    "\n",
    "pos = nx.spring_layout(H)\n",
    "nx.draw(H, pos, node_color='#0080C9', edge_color='#cccccc', node_size=50)\n",
    "nx.draw_networkx_nodes(H, pos, nodelist=[center], node_size=100, node_color=\"r\")\n",
    "plt.show()\n",
    "\n",
    "# Other subgraphs can be extracted with nx.subgraph"
   ]
  },
  {
   "cell_type": "code",
   "execution_count": null,
   "metadata": {
    "collapsed": false
   },
   "outputs": [],
   "source": [
    "# Finding the shortest path\n",
    "H = nx.star_graph(100)\n",
    "print nx.shortest_path(H, random.choice(H.nodes()), random.choice(H.nodes()))\n",
    "\n",
    "pos = nx.spring_layout(H)\n",
    "nx.draw(H, pos)\n",
    "plt.show()"
   ]
  },
  {
   "cell_type": "code",
   "execution_count": null,
   "metadata": {
    "collapsed": false
   },
   "outputs": [],
   "source": [
    "# Preparing for Data Science Analysis\n",
    "print nx.to_numpy_matrix(H)\n",
    "# print nx.to_scipy_sparse_matrix(G)"
   ]
  },
  {
   "cell_type": "markdown",
   "metadata": {},
   "source": [
    "## Serialization of Graphs\n",
    "\n",
    "Most Graphs won't be constructed in memory, but rather saved to disk. Serialize and deserialize Graphs as follows:"
   ]
  },
  {
   "cell_type": "code",
   "execution_count": null,
   "metadata": {
    "collapsed": false
   },
   "outputs": [],
   "source": [
    "G = nx.read_graphml(GRAPHML) # opposite of nx.write_graphml"
   ]
  },
  {
   "cell_type": "code",
   "execution_count": null,
   "metadata": {
    "collapsed": false
   },
   "outputs": [],
   "source": [
    "print nx.info(G)"
   ]
  },
  {
   "cell_type": "markdown",
   "metadata": {},
   "source": [
    "NetworkX has a ton of Graph serialization methods, and most have methods in the following format for serialization format, `format`:\n",
    "\n",
    "- Read Graph from disk: `read_format`\n",
    "- Write Graph to disk: `write_format`\n",
    "- Parse a Graph string: `parse_format`\n",
    "- Generate a random Graph in format: `generate_format`\n",
    "    \n",
    "The list of formats is pretty impressive:\n",
    "\n",
    "- Adjacency List\n",
    "- Multiline Adjacency List\n",
    "- Edge List\n",
    "- GEXF\n",
    "- GML\n",
    "- Pickle\n",
    "- GraphML\n",
    "- JSON\n",
    "- LEDA\n",
    "- YAML\n",
    "- SparseGraph6\n",
    "- Pajek\n",
    "- GIS Shapefile\n",
    "\n",
    "The JSON and GraphmL are most noteworthy (for use in D3 and Gephi/Neo4j)"
   ]
  },
  {
   "cell_type": "markdown",
   "metadata": {},
   "source": [
    "## Initial Analysis of Email Network\n",
    "\n",
    "We can do some initial analyses on our network using built in NetworkX methods."
   ]
  },
  {
   "cell_type": "code",
   "execution_count": null,
   "metadata": {
    "collapsed": false
   },
   "outputs": [],
   "source": [
    "# Generate a list of connected components\n",
    "# See also nx.strongly_connected_components\n",
    "for component in nx.connected_components(G):\n",
    "    print len(component)\n"
   ]
  },
  {
   "cell_type": "code",
   "execution_count": null,
   "metadata": {
    "collapsed": false
   },
   "outputs": [],
   "source": [
    "len([c for c in nx.connected_components(G)])"
   ]
  },
  {
   "cell_type": "code",
   "execution_count": null,
   "metadata": {
    "collapsed": false
   },
   "outputs": [],
   "source": [
    "# Get a list of the degree frequencies\n",
    "dist = FreqDist(nx.degree(G).values())\n",
    "dist.plot()"
   ]
  },
  {
   "cell_type": "code",
   "execution_count": null,
   "metadata": {
    "collapsed": false
   },
   "outputs": [],
   "source": [
    "# Compute Power log sequence\n",
    "degree_sequence=sorted(nx.degree(G).values(),reverse=True) # degree sequence\n",
    "\n",
    "plt.loglog(degree_sequence,'b-',marker='.')\n",
    "plt.title(\"Degree rank plot\")\n",
    "plt.ylabel(\"degree\")\n",
    "plt.xlabel(\"rank\")"
   ]
  },
  {
   "cell_type": "code",
   "execution_count": null,
   "metadata": {
    "collapsed": false
   },
   "outputs": [],
   "source": [
    "# Graph Properties\n",
    "print \"Order: %i\" % G.number_of_nodes()\n",
    "print \"Size: %i\" % G.number_of_edges()"
   ]
  },
  {
   "cell_type": "code",
   "execution_count": null,
   "metadata": {
    "collapsed": false
   },
   "outputs": [],
   "source": [
    "print \"Clustering: %0.5f\" % nx.average_clustering(G)"
   ]
  },
  {
   "cell_type": "code",
   "execution_count": null,
   "metadata": {
    "collapsed": false
   },
   "outputs": [],
   "source": [
    "print \"Transitivity: %0.5f\" % nx.transitivity(G)"
   ]
  },
  {
   "cell_type": "code",
   "execution_count": null,
   "metadata": {
    "collapsed": false
   },
   "outputs": [],
   "source": [
    "hairball = nx.subgraph(G, [x for x in nx.connected_components(G)][0])\n",
    "print \"Average shortest path: %0.4f\" % nx.average_shortest_path_length(hairball)"
   ]
  },
  {
   "cell_type": "code",
   "execution_count": null,
   "metadata": {
    "collapsed": false
   },
   "outputs": [],
   "source": [
    "# Node Properties\n",
    "node = 'benjamin@bengfort.com' # Change to an email in your graph\n",
    "print \"Degree of node: %i\" % nx.degree(G, node)\n",
    "print \"Local clustering: %0.4f\" % nx.clustering(G, node)"
   ]
  },
  {
   "cell_type": "markdown",
   "metadata": {},
   "source": [
    "## Computing Key Players"
   ]
  },
  {
   "cell_type": "markdown",
   "metadata": {},
   "source": [
    "In the previous graph, we began exploring ego networks and strong ties between individuals in our social network. We started to see that actors with strong ties to other actors created clusters that centered around themselves. This leads to the obvious question: who are the key figures in the graph, and what kind of pull do they have? We'll look at a couple measures of \"centrality\" to try to discover this: degree centrality, betweeness centrality, closeness centrality, and eigenvector centrality.\n",
    "\n",
    "### Degree Centrality ###\n",
    "The most common and perhaps simplest technique for finding the key actors of a graph is to measure the degree of each vertex. Degree is a signal that determines how connected a node is, which could be a metaphor for influence or popularity. At the very least, the most connected nodes are the ones that spread information the fastest, or have the greatest effect on their community. Measures of degree tend to suffer from dillution, and benefit from statistical techniques to normalize data sets. "
   ]
  },
  {
   "cell_type": "code",
   "execution_count": null,
   "metadata": {
    "collapsed": false
   },
   "outputs": [],
   "source": [
    "def nbest_centrality(graph, metric, n=10, attribute=\"centrality\", **kwargs):\n",
    "    centrality = metric(graph, **kwargs)\n",
    "    nx.set_node_attributes(graph, attribute, centrality)\n",
    "    degrees = sorted(centrality.items(), key=itemgetter(1), reverse=True)\n",
    "    \n",
    "    for idx, item in enumerate(degrees[0:n]):\n",
    "        item = (idx+1,) + item\n",
    "        print \"%i. %s: %0.4f\" % item\n",
    "    \n",
    "    return degrees"
   ]
  },
  {
   "cell_type": "code",
   "execution_count": null,
   "metadata": {
    "collapsed": false
   },
   "outputs": [],
   "source": [
    "degrees = nbest_centrality(G, nx.degree_centrality, n=15)"
   ]
  },
  {
   "cell_type": "markdown",
   "metadata": {},
   "source": [
    "### Betweenness Centrality ###\n",
    "\n",
    "A _path_ is a sequence of nodes between a star node and an end node where no node appears twice on the path, and is measured by the number of edges included (also called hops). The most interesting path to compute for two given nodes is the _shortest path_, e.g. the minimum number of edges required to reach another node, this is also called the node _distance_. Note that paths can be of length 0, the distance from a node to itself."
   ]
  },
  {
   "cell_type": "code",
   "execution_count": null,
   "metadata": {
    "collapsed": false
   },
   "outputs": [],
   "source": [
    "# centrality = nx.betweenness_centrality(G)\n",
    "# normalized = nx.betweenness_centrality(G, normalized=True)\n",
    "# weighted   = nx.betweenness_centrality(G, weight=\"weight\")\n",
    "\n",
    "degrees = nbest_centrality(G, nx.betweenness_centrality, n=15)"
   ]
  },
  {
   "cell_type": "markdown",
   "metadata": {},
   "source": [
    "### Closeness Centrality ###\n",
    "\n",
    "Another centrality measure, _closeness_ takes a statistical look at the outgoing paths fora  particular node, v. That is, what is the average number of hops it takes to reach any other node in the network from v? This is simply computed as the reciprocal of the mean distance to all other nodes in the graph, which can be normalized to `n-1 / size(G)-1` if all nodes in the graph are connected. The reciprocal ensures that nodes that are closer (e.g. fewer hops) score \"better\" e.g. closer to one as in other centrality scores. "
   ]
  },
  {
   "cell_type": "code",
   "execution_count": null,
   "metadata": {
    "collapsed": false
   },
   "outputs": [],
   "source": [
    "# centrality = nx.closeness_centrality(graph)\n",
    "# normalied  = nx.closeness_centrality(graph, normalized=True)\n",
    "# weighted   = nx.closeness_centrality(graph, distance=\"weight\")\n",
    "\n",
    "degrees = nbest_centrality(G, nx.closeness_centrality, n=15)"
   ]
  },
  {
   "cell_type": "markdown",
   "metadata": {},
   "source": [
    "### Eigenvector Centrality ###\n",
    "\n",
    "The eigenvector centrality of a node, v is proportional to the sum of the centrality scores of it's neighbors. E.g. the more important people you are connected to, the more important you are. This centrality measure is very interesting, because an actor with a small number of hugely influential contacts may outrank ones with many more mediocre contacts. For our social network, hopefully it will allow us to get underneath the celebrity structure of heroic teams and see who actually is holding the social graph together. "
   ]
  },
  {
   "cell_type": "code",
   "execution_count": null,
   "metadata": {
    "collapsed": false
   },
   "outputs": [],
   "source": [
    "# centrality = nx.eigenvector_centality(graph)\n",
    "# centrality = nx.eigenvector_centrality_numpy(graph)\n",
    "\n",
    "degrees = nbest_centrality(G, nx.eigenvector_centrality_numpy, n=15)"
   ]
  },
  {
   "cell_type": "markdown",
   "metadata": {},
   "source": [
    "## Clustering and Cohesion ##\n",
    "\n",
    "In this next section, we're going to characterize our social network as a whole, rather than from the perspective of individual actors. This task is usually secondary to getting a feel for the most important nodes; but it is a chicken and an egg problem- determining the techniques to analyze and split the whole graph can be informed by key player analyses, and vice versa. \n",
    "\n",
    "The _density_ of a network is the ratio of the number of edges in the network to the total number of possible edges in the network. The possible number of edges for a graph of n vertices is n(n-1)/2 for an undirected graph (remove the division for a directed graph). Perfectly connected networks (every node shares an edge with every other node) have a density of 1, and are often called _cliques_. "
   ]
  },
  {
   "cell_type": "code",
   "execution_count": null,
   "metadata": {
    "collapsed": false
   },
   "outputs": [],
   "source": [
    "print nx.density(G)"
   ]
  },
  {
   "cell_type": "markdown",
   "metadata": {},
   "source": [
    "Graphs can also be analyzed in terms of distance (the shortest path between two nodes). The longest distance in a graph is called the _diameter_ of the social graph, and represents the longest information flow along the graph. Typically less dense (sparse) social networks will have a larger diameter than more dense networks. Additionally, the average distance is an interesting metric as it can give you information about how close nodes are to each other. "
   ]
  },
  {
   "cell_type": "code",
   "execution_count": null,
   "metadata": {
    "collapsed": false
   },
   "outputs": [],
   "source": [
    "for subgraph in nx.connected_component_subgraphs(G):\n",
    "    print nx.diameter(subgraph)\n",
    "    print nx.average_shortest_path_length(subgraph)"
   ]
  },
  {
   "cell_type": "markdown",
   "metadata": {},
   "source": [
    "Let's actually get into some clustering. The python-louvain library uses NetworkX to perform community detection with the louvain method. Here is a simple example of cluster partitioning on a small, built-in social network."
   ]
  },
  {
   "cell_type": "code",
   "execution_count": null,
   "metadata": {
    "collapsed": false
   },
   "outputs": [],
   "source": [
    "partition = community.best_partition(G)\n",
    "print \"%i partitions\" % len(set(partition.values()))\n",
    "nx.set_node_attributes(G, 'partition', partition)"
   ]
  },
  {
   "cell_type": "code",
   "execution_count": null,
   "metadata": {
    "collapsed": false
   },
   "outputs": [],
   "source": [
    "pos = nx.spring_layout(G)\n",
    "plt.figure(figsize=(12,12))\n",
    "plt.axis('off')\n",
    "\n",
    "nx.draw_networkx_nodes(G, pos, node_size=200, cmap=plt.cm.RdYlBu, node_color=partition.values())\n",
    "nx.draw_networkx_edges(G,pos, alpha=0.5)"
   ]
  },
  {
   "cell_type": "markdown",
   "metadata": {},
   "source": [
    "## Visualizing Graphs ##\n",
    "\n",
    "NetworkX wraps matplotlib or graphviz to draw simple graphs using the same charting library we saw in the previous chapter. This is effective for smaller size graphs, but with larger graphs memory can quickly be consumed.  To draw a graph, simply use the `networkx.draw` function, and then use `pyplot.show` to display it. "
   ]
  },
  {
   "cell_type": "code",
   "execution_count": null,
   "metadata": {
    "collapsed": false
   },
   "outputs": [],
   "source": [
    "nx.draw(nx.erdos_renyi_graph(20, 0.20))\n",
    "plt.show()\n"
   ]
  },
  {
   "cell_type": "markdown",
   "metadata": {},
   "source": [
    "There is, however, a rich drawing library underneath that lets you customize how the Graph looks and is laid out with many different layout algorithms. Let's take a look at an example using one of the built-in Social Graphs: The Davis Women's Social Club."
   ]
  },
  {
   "cell_type": "code",
   "execution_count": null,
   "metadata": {
    "collapsed": false
   },
   "outputs": [],
   "source": [
    "# Generate the Graph\n",
    "G=nx.davis_southern_women_graph()\n",
    "# Create a Spring Layout\n",
    "pos=nx.spring_layout(G)\n",
    "\n",
    "# Find the center Node\n",
    "dmin=1\n",
    "ncenter=0\n",
    "for n in pos:\n",
    "    x,y=pos[n]\n",
    "    d=(x-0.5)**2+(y-0.5)**2\n",
    "    if d<dmin:\n",
    "        ncenter=n\n",
    "        dmin=d\n",
    "\n",
    "# color by path length from node near center\n",
    "p=nx.single_source_shortest_path_length(G,ncenter)\n",
    "\n",
    "# Draw the graph\n",
    "plt.figure(figsize=(8,8))\n",
    "nx.draw_networkx_edges(G,pos,nodelist=[ncenter],alpha=0.4)\n",
    "nx.draw_networkx_nodes(G,pos,nodelist=p.keys(),\n",
    "                       node_size=90,\n",
    "                       node_color=p.values(),\n",
    "                       cmap=plt.cm.Reds_r)"
   ]
  },
  {
   "cell_type": "code",
   "execution_count": null,
   "metadata": {
    "collapsed": false
   },
   "outputs": [],
   "source": []
  }
 ],
 "metadata": {
  "kernelspec": {
   "display_name": "Python 2",
   "language": "python",
   "name": "python2"
  },
  "language_info": {
   "codemirror_mode": {
    "name": "ipython",
    "version": 2
   },
   "file_extension": ".py",
   "mimetype": "text/x-python",
   "name": "python",
   "nbconvert_exporter": "python",
   "pygments_lexer": "ipython2",
   "version": "2.7.10"
  }
 },
 "nbformat": 4,
 "nbformat_minor": 0
}
